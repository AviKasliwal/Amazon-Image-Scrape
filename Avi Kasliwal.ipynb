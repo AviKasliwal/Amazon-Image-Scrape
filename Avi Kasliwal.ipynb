{
 "cells": [
  {
   "cell_type": "markdown",
   "metadata": {},
   "source": [
    "# 5S Business Consulting : IS Assignment\n",
    "**`Problem Statement`: Extract image from Amazon pantry in masala category for MDH Catch Everest and Tata Sanpann.**\n",
    "<hr />"
   ]
  },
  {
   "cell_type": "code",
   "execution_count": 46,
   "metadata": {},
   "outputs": [
    {
     "name": "stdout",
     "output_type": "stream",
     "text": [
      "Readyyy...\n"
     ]
    }
   ],
   "source": [
    "import requests\n",
    "from bs4 import BeautifulSoup as bs\n",
    "from urllib import request as req\n",
    "\n",
    "print(\"Readyyy...\")"
   ]
  },
  {
   "cell_type": "code",
   "execution_count": 47,
   "metadata": {},
   "outputs": [],
   "source": [
    "# URL of Amazon page containing the products mentioned in the problem statement\n",
    "\n",
    "url = \"https://www.amazon.in/s?i=grocery&bbn=4860464031&rh=n%3A2454178031%2Cn%3A2454179031%2Cn%3A4859479031%2Cn%3A4859486031%2Cn%3A4859649031%2Cn%3A4860464031%2Cp_89%3ACATCH%7CEverest%7CKohinoor%7CMDH%7CSuhana%7CTata&dc&fst=as%3Aoff&qid=1580053192&rnid=3837712031&ref=sr_nr_p_89_5\""
   ]
  },
  {
   "cell_type": "code",
   "execution_count": 48,
   "metadata": {},
   "outputs": [],
   "source": [
    "request = requests.get(url)\n",
    "if request.status_code == 200:\n",
    "    request = request.content\n",
    "    decoded_content = request.decode()\n",
    "    soup = bs(decoded_content)\n",
    "else:\n",
    "    print(f'error {request.status_code}')"
   ]
  },
  {
   "cell_type": "code",
   "execution_count": 52,
   "metadata": {
    "scrolled": true
   },
   "outputs": [],
   "source": [
    "all_imgs = soup.find_all('img', {\"class\" : \"s-access-image cfMarker\"})\n",
    "\n",
    "all_imgs_url = []\n",
    "all_imgs_name = []\n",
    "\n",
    "for img in all_imgs:\n",
    "    img_url = img['src']\n",
    "    img_name = img['alt'].split(',')[0] + '.jpg'\n",
    "\n",
    "    if (img_name.split()[0] in ['Tata', 'Everest', 'Catch', 'MDH']):\n",
    "\n",
    "        all_imgs_url.append(img_url)\n",
    "        all_imgs_name.append(img_name)\n",
    "\n",
    "        req.urlretrieve(img_url, img_name)"
   ]
  }
 ],
 "metadata": {
  "kernelspec": {
   "display_name": "Python 3",
   "language": "python",
   "name": "python3"
  },
  "language_info": {
   "codemirror_mode": {
    "name": "ipython",
    "version": 3
   },
   "file_extension": ".py",
   "mimetype": "text/x-python",
   "name": "python",
   "nbconvert_exporter": "python",
   "pygments_lexer": "ipython3",
   "version": "3.7.4"
  }
 },
 "nbformat": 4,
 "nbformat_minor": 2
}
